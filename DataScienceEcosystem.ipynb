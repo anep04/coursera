{
 "cells": [
  {
   "cell_type": "markdown",
   "id": "ef898868-4168-4355-a9bc-826ac1323ec4",
   "metadata": {},
   "source": [
    "# Data Science Tools and Ecosystem"
   ]
  },
  {
   "cell_type": "markdown",
   "id": "8d0359b2-d431-4c69-8187-9a2c7d92a506",
   "metadata": {},
   "source": [
    "In this notebook, Data Science Tools and Ecosystem are summarized"
   ]
  },
  {
   "cell_type": "markdown",
   "id": "d380c9c0-1a21-4277-a9b2-33c3827db0d6",
   "metadata": {},
   "source": [
    "# **Objectives:** \n",
    "- Python\n",
    "- R\n",
    "- Julia\n",
    "- SQL"
   ]
  },
  {
   "cell_type": "markdown",
   "id": "cfb5c8c4-a60d-4100-975b-64ffaa840f17",
   "metadata": {},
   "source": [
    "Some of the popular languages that Data Scientists use are:\n",
    "1. Python\n",
    "2. R\n",
    "3. Julia\n",
    "4. SQL"
   ]
  },
  {
   "cell_type": "markdown",
   "id": "fd1fe7a9-040d-4370-8141-a0b4a5bce75c",
   "metadata": {},
   "source": [
    "Some of the commonly used libraries used by Data Scientists include:\n",
    "1. Python\n",
    "   1. NumPy\n",
    "   2. Pandas\n",
    "2. R\n",
    "   1. dplry\n",
    "   2. ggplot2\n",
    "3. Julia\n",
    "   1. DataFrames.jl\n",
    "   2. Flux.jl"
   ]
  },
  {
   "cell_type": "code",
   "execution_count": 3,
   "id": "eebee23e-3bbe-4c29-8a44-d0e5c8f8e6d6",
   "metadata": {},
   "outputs": [],
   "source": [
    "#This a simple arithmetic expression to mutiply then add integers"
   ]
  },
  {
   "cell_type": "code",
   "execution_count": 1,
   "id": "6ddad9e9-b148-4524-a605-20c36e076523",
   "metadata": {},
   "outputs": [
    {
     "name": "stdout",
     "output_type": "stream",
     "text": [
      "17.0\n"
     ]
    }
   ],
   "source": [
    "y= (3*4)+5.\n",
    "print(y)"
   ]
  },
  {
   "cell_type": "code",
   "execution_count": 5,
   "id": "e479e587-a0b4-45b0-9dc6-a5244d3960e2",
   "metadata": {},
   "outputs": [],
   "source": [
    "#This will convert 200 minutes to hours by diving by 60"
   ]
  },
  {
   "cell_type": "code",
   "execution_count": 19,
   "id": "c2c77c5b-5459-41d4-9ba0-041f19b79ceb",
   "metadata": {},
   "outputs": [
    {
     "name": "stdout",
     "output_type": "stream",
     "text": [
      "03:20\n"
     ]
    }
   ],
   "source": [
    "hours=200//60\n",
    "minutes = (200 % 60) \n",
    "time_format = f\"{hours:02}:{minutes:02}\"\n",
    "print(time_format)"
   ]
  },
  {
   "cell_type": "markdown",
   "id": "deb469f3-c463-41ae-b317-5284fe74e0d6",
   "metadata": {},
   "source": [
    "## Author\n",
    "Aleksandra"
   ]
  },
  {
   "cell_type": "code",
   "execution_count": null,
   "id": "a61a8ad5-7f02-4d7a-adac-1909f1340ce1",
   "metadata": {},
   "outputs": [],
   "source": []
  }
 ],
 "metadata": {
  "kernelspec": {
   "display_name": "Python 3 (ipykernel)",
   "language": "python",
   "name": "python3"
  },
  "language_info": {
   "codemirror_mode": {
    "name": "ipython",
    "version": 3
   },
   "file_extension": ".py",
   "mimetype": "text/x-python",
   "name": "python",
   "nbconvert_exporter": "python",
   "pygments_lexer": "ipython3",
   "version": "3.11.7"
  }
 },
 "nbformat": 4,
 "nbformat_minor": 5
}
